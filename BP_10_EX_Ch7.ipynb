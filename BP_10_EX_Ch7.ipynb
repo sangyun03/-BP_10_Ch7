{
  "nbformat": 4,
  "nbformat_minor": 0,
  "metadata": {
    "colab": {
      "provenance": [],
      "authorship_tag": "ABX9TyPyMagvQ6Jn3SuAad+yKdAn",
      "include_colab_link": true
    },
    "kernelspec": {
      "name": "python3",
      "display_name": "Python 3"
    },
    "language_info": {
      "name": "python"
    }
  },
  "cells": [
    {
      "cell_type": "markdown",
      "metadata": {
        "id": "view-in-github",
        "colab_type": "text"
      },
      "source": [
        "<a href=\"https://colab.research.google.com/github/sangyun03/-BP_10_Ch7/blob/main/BP_10_EX_Ch7.ipynb\" target=\"_parent\"><img src=\"https://colab.research.google.com/assets/colab-badge.svg\" alt=\"Open In Colab\"/></a>"
      ]
    },
    {
      "cell_type": "code",
      "execution_count": null,
      "metadata": {
        "id": "DnBx5QmN6Kyt"
      },
      "outputs": [],
      "source": [
        "import turtle\n",
        "t = turtle. Turtle()\n",
        "t.shape(\"turtle\")\n",
        "t.color(\"black\", \"white\")\n",
        "s = turtle.Screen(); s.bgcolor('skyblue');\n",
        "\n",
        "def draw_snowman(x, y):\n",
        "    t.up()\n",
        "    t.goto(x, y)\n",
        "    t.down()\n",
        "    t.begin_fill()\n",
        "    t.circle(20)\n",
        "    t.end_fill()\n",
        "    t.goto(x, y-25)\n",
        "    t.setheading(135)\n",
        "    t.forward(50)\n",
        "    t.backward(50)\n",
        "\n",
        "\n",
        "    t.setheading(30)\n",
        "    t.forward(50)\n",
        "    t.backward(50)\n",
        "    t.setheading(0)\n",
        "\n",
        "    \n",
        "    t.begin_fill()\n",
        "    t.circle(15)\n",
        "    t.end_fill()\n",
        "    t.goto(x, y-70)\n",
        "    t.begin_fill()\n",
        "    t.circle(30)\n",
        "    t.end_fill()\n",
        "\n",
        "draw_snowman(0, 0)\n",
        "draw_snowman(100, 0)\n",
        "draw_snowman(200, 0) \n"
      ]
    },
    {
      "cell_type": "code",
      "source": [
        "import turtle\n",
        "t = turtle.Turtle()\n",
        "t.shape(\"turtle\")\n",
        "t.speed(0)\n",
        "\n",
        "def hexagon():\n",
        "  for i in range(6):\n",
        "    turtle.forward(100)\n",
        "    turtle.left(360/6)\n",
        "\n",
        "for i in range (6):\n",
        "  hexagon()\n",
        "  turtle.forward(100)\n",
        "  turtle.right(60)    "
      ],
      "metadata": {
        "id": "65OD5GdnH_cX"
      },
      "execution_count": null,
      "outputs": []
    },
    {
      "cell_type": "code",
      "source": [
        "import turtle\n",
        "t = turtle.Turtle()\n",
        "t.shape(\"turtle\")\n",
        "t.speed(0)\n",
        "\n",
        "def f(x):\n",
        " return x**2+1\n",
        "\n",
        "\n",
        "t.goto(200, 0)\n",
        "t.goto(0, 0)\n",
        "t.goto(0, 200)\n",
        "t.goto(0, 0)\n",
        "\n",
        "for x in range(150):\n",
        "      t.goto(x, int(0.01*f(x)))"
      ],
      "metadata": {
        "id": "zHuRbrvDMo8C"
      },
      "execution_count": null,
      "outputs": []
    },
    {
      "cell_type": "code",
      "source": [
        "import turtle\n",
        "t = turtle.Turtle()\n",
        "t.shape(\"turtle\")\n",
        "t.speed(0)\n",
        "\n",
        "\n",
        "def draw_line():\n",
        "    t.forward(100)\n",
        "    t.backward(100)\n",
        "\n",
        "\n",
        "for x in range(12):\n",
        "     t.right(30)\n",
        "     draw_line()"
      ],
      "metadata": {
        "id": "gnWHji4TMxxR"
      },
      "execution_count": null,
      "outputs": []
    },
    {
      "cell_type": "code",
      "source": [
        "def happyBirthday(person):\n",
        "    print(\"Happy Birthday to you!\")\n",
        "    print(\"Happy Birthday to you!\")\n",
        "    print(\"Happy Birthday, dear \" + person)\n",
        "    print(\"Happy Birthday to you!\")\n",
        "\n",
        "    \n",
        "happyBirthday(\"홍길동\")"
      ],
      "metadata": {
        "colab": {
          "base_uri": "https://localhost:8080/"
        },
        "id": "yIiwuLr3Mx2R",
        "outputId": "8b9a17d3-b910-4387-9fb3-4586f0a27d2c"
      },
      "execution_count": 4,
      "outputs": [
        {
          "output_type": "stream",
          "name": "stdout",
          "text": [
            "Happy Birthday to you!\n",
            "Happy Birthday to you!\n",
            "Happy Birthday, dear 홍길동\n",
            "Happy Birthday to you!\n"
          ]
        }
      ]
    },
    {
      "cell_type": "code",
      "source": [
        "def sumProblem(x, y):\n",
        "     sum = x + y\n",
        "     sentence = \"정수\" + str(x) + \"+\"+str(y)+\"의 합은?\"\n",
        "     print(sentence)\n",
        "\n",
        "\n",
        "def main():\n",
        "    a = int(input(\"첫 번째 정수: \"))\n",
        "    b = int(input(\"두 번째 정수: \"))\n",
        "    sumProblem(a, b)\n",
        "    \n",
        "main()"
      ],
      "metadata": {
        "colab": {
          "base_uri": "https://localhost:8080/"
        },
        "id": "BKNGsZogMx4p",
        "outputId": "dbaa8ce9-066e-4d85-c606-55b6354d94e9"
      },
      "execution_count": 3,
      "outputs": [
        {
          "output_type": "stream",
          "name": "stdout",
          "text": [
            "첫 번째 정수: 10\n",
            "두 번째 정수: 20\n",
            "정수10+20의 합은?\n"
          ]
        }
      ]
    },
    {
      "cell_type": "code",
      "source": [
        "PI = 3.14159265358979\n",
        "\n",
        "def circleArea(radius):\n",
        "   return PI*radius*radius\n",
        "\n",
        "def circleCircumference(radius):\n",
        " return 2*PI*radius\n",
        "\n",
        "def main():\n",
        "   print('반지름이 5인 원의 면적:', circleArea(5))\n",
        "   print('반지름이 5인 원의 둘레:', circleCircumference(5))\n",
        "\n",
        "main()"
      ],
      "metadata": {
        "colab": {
          "base_uri": "https://localhost:8080/"
        },
        "id": "IKPf3b0ZMx6r",
        "outputId": "d5c1f2f7-b815-4d93-8bcf-cbc8256ba0c3"
      },
      "execution_count": 2,
      "outputs": [
        {
          "output_type": "stream",
          "name": "stdout",
          "text": [
            "반지름이 5인 원의 면적: 78.53981633974475\n",
            "반지름이 5인 원의 둘레: 31.4159265358979\n"
          ]
        }
      ]
    },
    {
      "cell_type": "code",
      "source": [
        "def add(a, b):\n",
        "   print( \"(%d + %d)\" % (a, b), end=\" \")\n",
        "   return a + b\n",
        "\n",
        "\n",
        "def subtract(a, b):\n",
        "   print (\"(%d - %d)\" % (a, b), end=\" \")\n",
        "   return a - b\n",
        "\n",
        "\n",
        "def multiply(a, b):\n",
        "   print (\"(%d * %d)\" % (a, b), end=\" \")\n",
        "   return a * b\n",
        "\n",
        "\n",
        "def divide(a, b):\n",
        "   print (\"(%d / %d)\" % (a, b), end=\" \")\n",
        "   return a / b\n",
        "\n",
        "\n",
        "what = add(20, 10)\n",
        "print(\"= \", what)"
      ],
      "metadata": {
        "colab": {
          "base_uri": "https://localhost:8080/"
        },
        "id": "Ez0zaP_aM6QR",
        "outputId": "c7e51d00-c901-4559-d54f-9fd3a79cdbf7"
      },
      "execution_count": 1,
      "outputs": [
        {
          "output_type": "stream",
          "name": "stdout",
          "text": [
            "(20 + 10) =  30\n"
          ]
        }
      ]
    }
  ]
}